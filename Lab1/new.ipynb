{
 "cells": [
  {
   "cell_type": "code",
   "execution_count": 3,
   "metadata": {},
   "outputs": [
    {
     "name": "stdout",
     "output_type": "stream",
     "text": [
      "[[2448503, 2448525, 2448522, 2448533, 2448552, 2448530, 2448542, 2448543, 2448520, 2448511, 2448541, 2448531, 2448514, 2448547, 2448517, 2448528, 2448557, 2448545, 2448546, 2448508, 2448521, 2448515, 2448516, 2448529, 2448527, 2448540, 2448559], [2448549, 2448555, 2448553, 2448502, 2448558, 2448538, 2448554, 2448535, 2448534, 2448550, 2448544, 2448504, 2448512, 2448536, 2448509, 2448526, 2448556, 2448507, 2448505, 2448537, 2448510, 2448513, 2448506, 2448523, 2448519, 2448539]]\n"
     ]
    }
   ],
   "source": [
    "import random\n",
    "\n",
    "def split_array_randomly(arr, num_chunks):\n",
    "    if num_chunks <= 0 or num_chunks > len(arr):\n",
    "        raise ValueError(\"Number of chunks should be between 1 and the length of the array.\")\n",
    "\n",
    "    random.shuffle(arr)  # Shuffle the array for randomness\n",
    "    split_sizes = [len(arr) // num_chunks] * num_chunks  # Equal base sizes\n",
    "    for i in range(len(arr) % num_chunks):  # Distribute remainder\n",
    "        split_sizes[i] += 1\n",
    "\n",
    "    result = []\n",
    "    index = 0\n",
    "    for size in split_sizes:\n",
    "        result.append(arr[index:index + size])\n",
    "        index += size\n",
    "    \n",
    "    return result\n",
    "\n",
    "# Example usage:\n",
    "arr = [\n",
    "  2448502, 2448503, 2448504, 2448505, 2448506, 2448507, 2448508, 2448509, \n",
    "  2448510, 2448511, 2448512, 2448513, 2448514, 2448515, 2448516, 2448517, \n",
    "  2448519, 2448520, 2448521, 2448522, 2448523, 2448525, 2448526, 2448527, \n",
    "  2448528, 2448529, 2448530, 2448531, 2448533, 2448534, 2448535, 2448536, \n",
    "  2448537, 2448538, 2448539, 2448540, 2448541, 2448542, 2448543, 2448544, \n",
    "  2448545, 2448546, 2448547, 2448549, 2448550, 2448552, 2448553, 2448554, \n",
    "  2448555, 2448556, 2448557, 2448558, 2448559\n",
    "]\n",
    "\n",
    "num_chunks = 2\n",
    "\n",
    "students = split_array_randomly(arr, num_chunks)\n",
    "print(students)\n"
   ]
  },
  {
   "cell_type": "code",
   "execution_count": 37,
   "metadata": {},
   "outputs": [],
   "source": [
    "import pandas as pd\n",
    "import numpy as np\n",
    "df = pd.DataFrame(students)"
   ]
  },
  {
   "cell_type": "code",
   "execution_count": 38,
   "metadata": {},
   "outputs": [],
   "source": [
    "df.T.to_csv('students.csv', index=False, header=False)"
   ]
  },
  {
   "cell_type": "code",
   "execution_count": 25,
   "metadata": {},
   "outputs": [
    {
     "name": "stdout",
     "output_type": "stream",
     "text": [
      " [[2448542, 2448528, 2448540, 2448525, 2448552, 2448559], [2448543, 2448508, 2448503, 2448520, 2448517, 2448522], [2448529, 2448516, 2448530, 2448541, 2448531], [2448547, 2448521, 2448533, 2448546, 2448527], [2448511, 2448514, 2448557, 2448545, 2448515]]\n",
      " [[2448503, 2448543, 2448530, 2448557, 2448559, 2448508], [2448546, 2448514, 2448511, 2448516, 2448529, 2448540], [2448527, 2448545, 2448517, 2448547, 2448520], [2448528, 2448522, 2448533, 2448515, 2448531], [2448542, 2448521, 2448552, 2448525, 2448541]]\n",
      " [[2448507, 2448513, 2448519, 2448512, 2448523, 2448554], [2448544, 2448536, 2448502, 2448535, 2448537], [2448504, 2448510, 2448538, 2448549, 2448509], [2448506, 2448539, 2448505, 2448558, 2448534], [2448556, 2448555, 2448553, 2448526, 2448550]]\n",
      " [[2448507, 2448556, 2448519, 2448526, 2448509, 2448536], [2448506, 2448513, 2448558, 2448512, 2448553], [2448550, 2448555, 2448554, 2448549, 2448544], [2448538, 2448539, 2448502, 2448510, 2448504], [2448537, 2448505, 2448535, 2448534, 2448523]]\n"
     ]
    }
   ],
   "source": [
    "students_A_1 = split_array_randomly(students[0], 5)\n",
    "print('',students_A_1)\n",
    "students_A_2 = split_array_randomly(students[0], 5)\n",
    "print('',students_A_2)\n",
    "students_B_1 = split_array_randomly(students[1], 5)\n",
    "print('',students_B_1)\n",
    "students_B_2 = split_array_randomly(students[1], 5)\n",
    "print('',students_B_2)"
   ]
  },
  {
   "cell_type": "code",
   "execution_count": 32,
   "metadata": {},
   "outputs": [
    {
     "name": "stdout",
     "output_type": "stream",
     "text": [
      "A_1 [2448542, 2448528, 2448540, 2448525, 2448552, 2448559]\n",
      "A_2 [2448503, 2448543, 2448530, 2448557, 2448559, 2448508]\n",
      "B_1 [2448507, 2448513, 2448519, 2448512, 2448523, 2448554]\n",
      "B_2 [2448507, 2448556, 2448519, 2448526, 2448509, 2448536]\n",
      "A_1 [2448543, 2448508, 2448503, 2448520, 2448517, 2448522]\n",
      "A_2 [2448546, 2448514, 2448511, 2448516, 2448529, 2448540]\n",
      "B_1 [2448544, 2448536, 2448502, 2448535, 2448537]\n",
      "B_2 [2448506, 2448513, 2448558, 2448512, 2448553]\n",
      "A_1 [2448529, 2448516, 2448530, 2448541, 2448531]\n",
      "A_2 [2448527, 2448545, 2448517, 2448547, 2448520]\n",
      "B_1 [2448504, 2448510, 2448538, 2448549, 2448509]\n",
      "B_2 [2448550, 2448555, 2448554, 2448549, 2448544]\n",
      "A_1 [2448547, 2448521, 2448533, 2448546, 2448527]\n",
      "A_2 [2448528, 2448522, 2448533, 2448515, 2448531]\n",
      "B_1 [2448506, 2448539, 2448505, 2448558, 2448534]\n",
      "B_2 [2448538, 2448539, 2448502, 2448510, 2448504]\n",
      "A_1 [2448511, 2448514, 2448557, 2448545, 2448515]\n",
      "A_2 [2448542, 2448521, 2448552, 2448525, 2448541]\n",
      "B_1 [2448556, 2448555, 2448553, 2448526, 2448550]\n",
      "B_2 [2448537, 2448505, 2448535, 2448534, 2448523]\n"
     ]
    }
   ],
   "source": [
    "for i in range(5):\n",
    "    print('A_1',students_A_1[i])\n",
    "    print('A_2',students_A_2[i])\n",
    "    print('B_1',students_B_1[i])\n",
    "    print('B_2',students_B_2[i])\n"
   ]
  },
  {
   "cell_type": "code",
   "execution_count": 39,
   "metadata": {},
   "outputs": [],
   "source": [
    "df_a_1 = pd.DataFrame(students_A_1)\n",
    "df_a_1.T.to_csv('students_A_1.csv', index=False, header=False)\n",
    "df_a_2 = pd.DataFrame(students_A_2)\n",
    "df_a_2.T.to_csv('students_A_2.csv', index=False, header=False)\n",
    "df_b_1 = pd.DataFrame(students_B_1)\n",
    "df_b_1.T.to_csv('students_B_1.csv', index=False, header=False)\n",
    "df_b_2 = pd.DataFrame(students_B_2)\n",
    "df_b_2.T.to_csv('students_B_2.csv', index=False, header=False)"
   ]
  },
  {
   "cell_type": "code",
   "execution_count": null,
   "metadata": {},
   "outputs": [],
   "source": []
  }
 ],
 "metadata": {
  "kernelspec": {
   "display_name": "base",
   "language": "python",
   "name": "python3"
  },
  "language_info": {
   "codemirror_mode": {
    "name": "ipython",
    "version": 3
   },
   "file_extension": ".py",
   "mimetype": "text/x-python",
   "name": "python",
   "nbconvert_exporter": "python",
   "pygments_lexer": "ipython3",
   "version": "3.12.3"
  }
 },
 "nbformat": 4,
 "nbformat_minor": 2
}
